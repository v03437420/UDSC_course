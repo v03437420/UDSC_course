{
 "cells": [
  {
   "cell_type": "markdown",
   "metadata": {},
   "source": [
    "### Lecture 4: Homework"
   ]
  },
  {
   "cell_type": "markdown",
   "metadata": {},
   "source": [
    "Today we gonna learn how to choose between ML models, based on data type. Your task would be to predict **the edibility of a mushroom** based on sample descriptions (binary classification problem)\n",
    "\n",
    "The **tricky part here is that 95% of the features are of categorical type.**\n",
    "<br>That's the one where we would **(usually)  prefer tree-based algorithms over linear methods**\n",
    "\n",
    "Although this dataset was originally contributed to the UCI Machine Learning repository nearly 30 years ago, mushroom hunting (otherwise known as \"shrooming\") is enjoying new peaks in popularity. Learn which features spell certain death and which are most palatable in this dataset of mushroom characteristics. And how certain can your model be?\n",
    "\n",
    "This dataset includes descriptions of hypothetical samples corresponding to 23 species of gilled mushrooms in the Agaricus and Lepiota Family Mushroom drawn from The Audubon Society Field Guide to North American Mushrooms (1981). Each species is identified as definitely edible, definitely poisonous, or of unknown edibility and not recommended. This latter class was combined with the poisonous one. The Guide clearly states that there is no simple rule for determining the edibility of a mushroom; no rule like \"leaflets three, let it be'' for Poisonous Oak and Ivy.\n",
    "\n",
    "More information can be found [here](https://www.kaggle.com/uciml/mushroom-classification/data)\n",
    "\n",
    "Please find below correspondent [google form](https://docs.google.com/forms/d/e/1FAIpQLScmKfUApMlcD81u9UZxM7xG3vJiEJHrPrG-3b0i_jyPEDijgQ/viewform) to submit your answers"
   ]
  },
  {
   "cell_type": "code",
   "execution_count": 1,
   "metadata": {
    "ExecuteTime": {
     "end_time": "2018-03-01T19:13:18.719050Z",
     "start_time": "2018-03-01T19:13:18.204437Z"
    }
   },
   "outputs": [],
   "source": [
    "# library import\n",
    "import pandas as pd\n",
    "import numpy as np\n",
    "from os.path import join as pjoin\n",
    "pd.options.display.max_columns = 50\n",
    "pd.options.display.max_colwidth = 100\n",
    "\n",
    "# preprocessing / validation\n",
    "from sklearn.preprocessing import LabelEncoder, OneHotEncoder\n",
    "from sklearn.model_selection import (\n",
    "    train_test_split, StratifiedKFold, cross_val_score, GridSearchCV\n",
    ")\n",
    "# ML models\n",
    "from sklearn.tree import DecisionTreeClassifier\n",
    "from sklearn.linear_model import LogisticRegression\n",
    "\n",
    "# metrics\n",
    "from sklearn.metrics import classification_report, f1_score"
   ]
  },
  {
   "cell_type": "code",
   "execution_count": 95,
   "metadata": {
    "ExecuteTime": {
     "end_time": "2018-03-01T19:13:18.765926Z",
     "start_time": "2018-03-01T19:13:18.719050Z"
    }
   },
   "outputs": [
    {
     "name": "stdout",
     "output_type": "stream",
     "text": [
      "(6499, 23) (1625, 22)\n"
     ]
    }
   ],
   "source": [
    "# read data\n",
    "DATA_DIR = '../data'\n",
    "df_train = pd.read_csv(pjoin(DATA_DIR, '4-mushrooms-train.csv'), engine='c')\n",
    "df_test = pd.read_csv(pjoin(DATA_DIR, '4-mushrooms-test.csv'), engine='c')\n",
    "print(df_train.shape, df_test.shape)"
   ]
  },
  {
   "cell_type": "code",
   "execution_count": 96,
   "metadata": {
    "ExecuteTime": {
     "end_time": "2018-03-01T19:13:18.803688Z",
     "start_time": "2018-03-01T19:13:18.765926Z"
    }
   },
   "outputs": [
    {
     "data": {
      "text/html": [
       "<div>\n",
       "<style>\n",
       "    .dataframe thead tr:only-child th {\n",
       "        text-align: right;\n",
       "    }\n",
       "\n",
       "    .dataframe thead th {\n",
       "        text-align: left;\n",
       "    }\n",
       "\n",
       "    .dataframe tbody tr th {\n",
       "        vertical-align: top;\n",
       "    }\n",
       "</style>\n",
       "<table border=\"1\" class=\"dataframe\">\n",
       "  <thead>\n",
       "    <tr style=\"text-align: right;\">\n",
       "      <th></th>\n",
       "      <th>target</th>\n",
       "      <th>cap_shape</th>\n",
       "      <th>cap_surface</th>\n",
       "      <th>cap_color</th>\n",
       "      <th>bruises</th>\n",
       "      <th>odor</th>\n",
       "      <th>gill_attachment</th>\n",
       "      <th>gill_spacing</th>\n",
       "      <th>gill_size</th>\n",
       "      <th>gill_color</th>\n",
       "      <th>stalk_shape</th>\n",
       "      <th>stalk_root</th>\n",
       "      <th>stalk_surface_above_ring</th>\n",
       "      <th>stalk_surface_below_ring</th>\n",
       "      <th>stalk_color_above_ring</th>\n",
       "      <th>stalk_color_below_ring</th>\n",
       "      <th>veil_type</th>\n",
       "      <th>veil_color</th>\n",
       "      <th>ring_number</th>\n",
       "      <th>ring_type</th>\n",
       "      <th>spore_print_color</th>\n",
       "      <th>population</th>\n",
       "      <th>habitat</th>\n",
       "    </tr>\n",
       "  </thead>\n",
       "  <tbody>\n",
       "    <tr>\n",
       "      <th>0</th>\n",
       "      <td>0</td>\n",
       "      <td>convex</td>\n",
       "      <td>scaly</td>\n",
       "      <td>brown</td>\n",
       "      <td>bruises</td>\n",
       "      <td>pungent</td>\n",
       "      <td>free</td>\n",
       "      <td>close</td>\n",
       "      <td>narrow</td>\n",
       "      <td>white</td>\n",
       "      <td>enlarging</td>\n",
       "      <td>equal</td>\n",
       "      <td>smooth</td>\n",
       "      <td>smooth</td>\n",
       "      <td>white</td>\n",
       "      <td>white</td>\n",
       "      <td>partial</td>\n",
       "      <td>white</td>\n",
       "      <td>one</td>\n",
       "      <td>pendant</td>\n",
       "      <td>brown</td>\n",
       "      <td>scattered</td>\n",
       "      <td>urban</td>\n",
       "    </tr>\n",
       "    <tr>\n",
       "      <th>1</th>\n",
       "      <td>1</td>\n",
       "      <td>flat</td>\n",
       "      <td>fibrous</td>\n",
       "      <td>gray</td>\n",
       "      <td>bruises</td>\n",
       "      <td>none</td>\n",
       "      <td>free</td>\n",
       "      <td>close</td>\n",
       "      <td>broad</td>\n",
       "      <td>brown</td>\n",
       "      <td>tapering</td>\n",
       "      <td>bulbous</td>\n",
       "      <td>smooth</td>\n",
       "      <td>smooth</td>\n",
       "      <td>white</td>\n",
       "      <td>white</td>\n",
       "      <td>partial</td>\n",
       "      <td>white</td>\n",
       "      <td>one</td>\n",
       "      <td>pendant</td>\n",
       "      <td>brown</td>\n",
       "      <td>several</td>\n",
       "      <td>woods</td>\n",
       "    </tr>\n",
       "    <tr>\n",
       "      <th>2</th>\n",
       "      <td>0</td>\n",
       "      <td>flat</td>\n",
       "      <td>smooth</td>\n",
       "      <td>brown</td>\n",
       "      <td>no</td>\n",
       "      <td>none</td>\n",
       "      <td>attached</td>\n",
       "      <td>close</td>\n",
       "      <td>broad</td>\n",
       "      <td>orange</td>\n",
       "      <td>enlarging</td>\n",
       "      <td>missing</td>\n",
       "      <td>smooth</td>\n",
       "      <td>smooth</td>\n",
       "      <td>orange</td>\n",
       "      <td>orange</td>\n",
       "      <td>partial</td>\n",
       "      <td>orange</td>\n",
       "      <td>one</td>\n",
       "      <td>pendant</td>\n",
       "      <td>brown</td>\n",
       "      <td>several</td>\n",
       "      <td>leaves</td>\n",
       "    </tr>\n",
       "    <tr>\n",
       "      <th>3</th>\n",
       "      <td>1</td>\n",
       "      <td>convex</td>\n",
       "      <td>fibrous</td>\n",
       "      <td>gray</td>\n",
       "      <td>bruises</td>\n",
       "      <td>none</td>\n",
       "      <td>free</td>\n",
       "      <td>close</td>\n",
       "      <td>broad</td>\n",
       "      <td>brown</td>\n",
       "      <td>tapering</td>\n",
       "      <td>bulbous</td>\n",
       "      <td>smooth</td>\n",
       "      <td>smooth</td>\n",
       "      <td>white</td>\n",
       "      <td>white</td>\n",
       "      <td>partial</td>\n",
       "      <td>white</td>\n",
       "      <td>one</td>\n",
       "      <td>pendant</td>\n",
       "      <td>black</td>\n",
       "      <td>solitary</td>\n",
       "      <td>woods</td>\n",
       "    </tr>\n",
       "    <tr>\n",
       "      <th>4</th>\n",
       "      <td>0</td>\n",
       "      <td>knobbed</td>\n",
       "      <td>smooth</td>\n",
       "      <td>brown</td>\n",
       "      <td>no</td>\n",
       "      <td>foul</td>\n",
       "      <td>free</td>\n",
       "      <td>close</td>\n",
       "      <td>narrow</td>\n",
       "      <td>buff</td>\n",
       "      <td>tapering</td>\n",
       "      <td>missing</td>\n",
       "      <td>silky</td>\n",
       "      <td>smooth</td>\n",
       "      <td>pink</td>\n",
       "      <td>pink</td>\n",
       "      <td>partial</td>\n",
       "      <td>white</td>\n",
       "      <td>one</td>\n",
       "      <td>evanescent</td>\n",
       "      <td>white</td>\n",
       "      <td>several</td>\n",
       "      <td>paths</td>\n",
       "    </tr>\n",
       "  </tbody>\n",
       "</table>\n",
       "</div>"
      ],
      "text/plain": [
       "   target cap_shape cap_surface cap_color  bruises     odor gill_attachment  \\\n",
       "0       0    convex       scaly     brown  bruises  pungent            free   \n",
       "1       1      flat     fibrous      gray  bruises     none            free   \n",
       "2       0      flat      smooth     brown       no     none        attached   \n",
       "3       1    convex     fibrous      gray  bruises     none            free   \n",
       "4       0   knobbed      smooth     brown       no     foul            free   \n",
       "\n",
       "  gill_spacing gill_size gill_color stalk_shape stalk_root  \\\n",
       "0        close    narrow      white   enlarging      equal   \n",
       "1        close     broad      brown    tapering    bulbous   \n",
       "2        close     broad     orange   enlarging    missing   \n",
       "3        close     broad      brown    tapering    bulbous   \n",
       "4        close    narrow       buff    tapering    missing   \n",
       "\n",
       "  stalk_surface_above_ring stalk_surface_below_ring stalk_color_above_ring  \\\n",
       "0                   smooth                   smooth                  white   \n",
       "1                   smooth                   smooth                  white   \n",
       "2                   smooth                   smooth                 orange   \n",
       "3                   smooth                   smooth                  white   \n",
       "4                    silky                   smooth                   pink   \n",
       "\n",
       "  stalk_color_below_ring veil_type veil_color ring_number   ring_type  \\\n",
       "0                  white   partial      white         one     pendant   \n",
       "1                  white   partial      white         one     pendant   \n",
       "2                 orange   partial     orange         one     pendant   \n",
       "3                  white   partial      white         one     pendant   \n",
       "4                   pink   partial      white         one  evanescent   \n",
       "\n",
       "  spore_print_color population habitat  \n",
       "0             brown  scattered   urban  \n",
       "1             brown    several   woods  \n",
       "2             brown    several  leaves  \n",
       "3             black   solitary   woods  \n",
       "4             white    several   paths  "
      ]
     },
     "execution_count": 96,
     "metadata": {},
     "output_type": "execute_result"
    }
   ],
   "source": [
    "# let's see what data looks like\n",
    "df_train.head()"
   ]
  },
  {
   "cell_type": "code",
   "execution_count": 97,
   "metadata": {
    "ExecuteTime": {
     "end_time": "2018-03-01T19:13:18.834937Z",
     "start_time": "2018-03-01T19:13:18.803688Z"
    }
   },
   "outputs": [
    {
     "name": "stdout",
     "output_type": "stream",
     "text": [
      "(8124, 24)\n"
     ]
    },
    {
     "data": {
      "text/plain": [
       "True     6499\n",
       "False    1625\n",
       "Name: is_train, dtype: int64"
      ]
     },
     "execution_count": 97,
     "metadata": {},
     "output_type": "execute_result"
    }
   ],
   "source": [
    "# for convenient calculations, let us merge train with test\n",
    "df = pd.concat([df_train, df_test], axis=0)\n",
    "# add column for filtering train/test\n",
    "df['is_train'] = True\n",
    "df.loc[df.target.isnull(), 'is_train'] = False\n",
    "# check shapes\n",
    "print(df.shape)\n",
    "# check labels\n",
    "df.is_train.value_counts()"
   ]
  },
  {
   "cell_type": "markdown",
   "metadata": {
    "ExecuteTime": {
     "end_time": "2018-03-01T15:42:12.821025Z",
     "start_time": "2018-03-01T15:42:09.355356Z"
    }
   },
   "source": [
    "### Task 1. Which feature has the highest amount of unique values? (joint dataset)\n"
   ]
  },
  {
   "cell_type": "code",
   "execution_count": 98,
   "metadata": {},
   "outputs": [
    {
     "data": {
      "text/plain": [
       "bruises                        0\n",
       "cap_color                      0\n",
       "cap_shape                      0\n",
       "cap_surface                    0\n",
       "gill_attachment                0\n",
       "gill_color                     0\n",
       "gill_size                      0\n",
       "gill_spacing                   0\n",
       "habitat                        0\n",
       "odor                           0\n",
       "population                     0\n",
       "ring_number                    0\n",
       "ring_type                      0\n",
       "spore_print_color              0\n",
       "stalk_color_above_ring         0\n",
       "stalk_color_below_ring         0\n",
       "stalk_root                     0\n",
       "stalk_shape                    0\n",
       "stalk_surface_above_ring       0\n",
       "stalk_surface_below_ring       0\n",
       "target                      1625\n",
       "veil_color                     0\n",
       "veil_type                      0\n",
       "is_train                       0\n",
       "dtype: int64"
      ]
     },
     "execution_count": 98,
     "metadata": {},
     "output_type": "execute_result"
    }
   ],
   "source": [
    "df.isnull().sum()"
   ]
  },
  {
   "cell_type": "code",
   "execution_count": 99,
   "metadata": {},
   "outputs": [],
   "source": [
    "from matplotlib import pyplot as plt\n",
    "import matplotlib.colors as colors\n",
    "%matplotlib inline"
   ]
  },
  {
   "cell_type": "code",
   "execution_count": 100,
   "metadata": {},
   "outputs": [
    {
     "data": {
      "text/plain": [
       "array([3148, 2148, 1144,  832,  368,  292,  192], dtype=int64)"
      ]
     },
     "execution_count": 100,
     "metadata": {},
     "output_type": "execute_result"
    }
   ],
   "source": [
    "df['habitat'].value_counts().values"
   ]
  },
  {
   "cell_type": "code",
   "execution_count": 101,
   "metadata": {},
   "outputs": [
    {
     "name": "stdout",
     "output_type": "stream",
     "text": [
      "0\n",
      "bruises: 2 unique values (no         4748\n",
      "bruises    3376\n",
      "Name: bruises, dtype: int64)\n",
      "1\n",
      "cap_color: 10 unique values (brown       2284\n",
      "gray        1840\n",
      "red         1500\n",
      "yellow      1072\n",
      "white       1040\n",
      "buff         168\n",
      "pink         144\n",
      "cinnamon      44\n",
      "purple        16\n",
      "green         16\n",
      "Name: cap_color, dtype: int64)\n",
      "2\n",
      "cap_shape: 6 unique values (convex     3656\n",
      "flat       3152\n",
      "knobbed     828\n",
      "bell        452\n",
      "sunken       32\n",
      "conical       4\n",
      "Name: cap_shape, dtype: int64)\n",
      "3\n",
      "cap_surface: 4 unique values (scaly      3244\n",
      "smooth     2556\n",
      "fibrous    2320\n",
      "grooves       4\n",
      "Name: cap_surface, dtype: int64)\n",
      "4\n",
      "gill_attachment: 2 unique values (free        7914\n",
      "attached     210\n",
      "Name: gill_attachment, dtype: int64)\n",
      "5\n",
      "gill_color: 12 unique values (buff         1728\n",
      "pink         1492\n",
      "white        1202\n",
      "brown        1048\n",
      "gray          752\n",
      "chocolate     732\n",
      "purple        492\n",
      "black         408\n",
      "red            96\n",
      "yellow         86\n",
      "orange         64\n",
      "green          24\n",
      "Name: gill_color, dtype: int64)\n",
      "6\n",
      "gill_size: 2 unique values (broad     5612\n",
      "narrow    2512\n",
      "Name: gill_size, dtype: int64)\n",
      "7\n",
      "gill_spacing: 2 unique values (close      6812\n",
      "crowded    1312\n",
      "Name: gill_spacing, dtype: int64)\n",
      "8\n",
      "habitat: 7 unique values (woods      3148\n",
      "grasses    2148\n",
      "paths      1144\n",
      "leaves      832\n",
      "urban       368\n",
      "meadows     292\n",
      "waste       192\n",
      "Name: habitat, dtype: int64)\n",
      "9\n",
      "odor: 9 unique values (none        3528\n",
      "foul        2160\n",
      "fishy        576\n",
      "spicy        576\n",
      "almond       400\n",
      "anise        400\n",
      "pungent      256\n",
      "creosote     192\n",
      "musty         36\n",
      "Name: odor, dtype: int64)\n",
      "10\n",
      "population: 6 unique values (several      4040\n",
      "solitary     1712\n",
      "scattered    1248\n",
      "numerous      400\n",
      "abundant      384\n",
      "clustered     340\n",
      "Name: population, dtype: int64)\n",
      "11\n",
      "ring_number: 3 unique values (one     7488\n",
      "two      600\n",
      "none      36\n",
      "Name: ring_number, dtype: int64)\n",
      "12\n",
      "ring_type: 5 unique values (pendant       3968\n",
      "evanescent    2776\n",
      "large         1296\n",
      "flaring         48\n",
      "none            36\n",
      "Name: ring_type, dtype: int64)\n",
      "13\n",
      "spore_print_color: 9 unique values (white        2388\n",
      "brown        1968\n",
      "black        1872\n",
      "chocolate    1632\n",
      "green          72\n",
      "purple         48\n",
      "buff           48\n",
      "yellow         48\n",
      "orange         48\n",
      "Name: spore_print_color, dtype: int64)\n",
      "14\n",
      "stalk_color_above_ring: 9 unique values (white       4464\n",
      "pink        1872\n",
      "gray         576\n",
      "brown        448\n",
      "buff         432\n",
      "orange       192\n",
      "red           96\n",
      "cinnamon      36\n",
      "yellow         8\n",
      "Name: stalk_color_above_ring, dtype: int64)\n",
      "15\n",
      "stalk_color_below_ring: 9 unique values (white       4384\n",
      "pink        1872\n",
      "gray         576\n",
      "brown        512\n",
      "buff         432\n",
      "orange       192\n",
      "red           96\n",
      "cinnamon      36\n",
      "yellow        24\n",
      "Name: stalk_color_below_ring, dtype: int64)\n",
      "16\n",
      "stalk_root: 5 unique values (bulbous    3776\n",
      "missing    2480\n",
      "equal      1120\n",
      "club        556\n",
      "rooted      192\n",
      "Name: stalk_root, dtype: int64)\n",
      "17\n",
      "stalk_shape: 2 unique values (tapering     4608\n",
      "enlarging    3516\n",
      "Name: stalk_shape, dtype: int64)\n",
      "18\n",
      "stalk_surface_above_ring: 4 unique values (smooth     5176\n",
      "silky      2372\n",
      "fibrous     552\n",
      "scaly        24\n",
      "Name: stalk_surface_above_ring, dtype: int64)\n",
      "19\n",
      "stalk_surface_below_ring: 4 unique values (smooth     4936\n",
      "silky      2304\n",
      "fibrous     600\n",
      "scaly       284\n",
      "Name: stalk_surface_below_ring, dtype: int64)\n",
      "20\n",
      "target: 3 unique values (1.0    3336\n",
      "0.0    3163\n",
      "Name: target, dtype: int64)\n",
      "21\n",
      "veil_color: 4 unique values (white     7924\n",
      "brown       96\n",
      "orange      96\n",
      "yellow       8\n",
      "Name: veil_color, dtype: int64)\n",
      "22\n",
      "veil_type: 1 unique values (partial    8124\n",
      "Name: veil_type, dtype: int64)\n",
      "23\n",
      "is_train: 2 unique values (True     6499\n",
      "False    1625\n",
      "Name: is_train, dtype: int64)\n"
     ]
    },
    {
     "data": {
      "image/png": "[encoded data removed]",
      "text/plain": [
       "<matplotlib.figure.Figure at 0xe9bc910>"
      ]
     },
     "metadata": {},
     "output_type": "display_data"
    }
   ],
   "source": [
    "fig, axes = plt.subplots(8, 3, figsize=(15, 30))\n",
    "\n",
    "for ax, (ind, col) in zip(axes.flat, enumerate(df)):\n",
    "    distr = df[col].value_counts()\n",
    "    \n",
    "    y_pos = np.arange(distr.index.shape[0])\n",
    "    ax.bar(y_pos, distr.values, align='center', alpha=0.5) #color=plt.get_cmap('tab10'))\n",
    "    ax.set_title(col)\n",
    "    ax.set_ylabel('# of occ.')\n",
    "    ax.set_xticklabels(distr.index.tolist())\n",
    "    ax.set_yticks(np.arange(0, 9000, 1000))\n",
    "    \n",
    "    print(ind)\n",
    "    print(\"{0}: {1} unique values ({2})\".format(col, df[col].unique().shape[0], distr))\n",
    "    \n",
    "plt.show()"
   ]
  },
  {
   "cell_type": "code",
   "execution_count": 102,
   "metadata": {},
   "outputs": [
    {
     "name": "stdout",
     "output_type": "stream",
     "text": [
      "'bruises' - 2 - 0.6788179870650406\n",
      "'cap_color' - 10 - 1.739898319287061\n",
      "'cap_shape' - 6 - 1.1456952882318043\n",
      "'cap_surface' - 4 - 1.0920439563177975\n",
      "'gill_attachment' - 2 - 0.12000380459019121\n",
      "'gill_color' - 12 - 2.100536009263145\n",
      "'gill_size' - 2 - 0.6184649299084096\n",
      "'gill_spacing' - 2 - 0.44214360061605323\n",
      "'habitat' - 7 - 1.5767346085798768\n",
      "'odor' - 9 - 1.6076955835943614\n",
      "'population' - 6 - 1.3886497900291173\n",
      "'ring_number' - 3 - 0.2915932566642181\n",
      "'ring_type' - 5 - 1.064065115923805\n",
      "'spore_print_color' - 9 - 1.5271607522805764\n",
      "'stalk_color_above_ring' - 9 - 1.3424935885255416\n",
      "'stalk_color_below_ring' - 9 - 1.3711580732536597\n",
      "'stalk_root' - 5 - 1.2635529897725304\n",
      "'stalk_shape' - 2 - 0.6840858746320861\n",
      "'stalk_surface_above_ring' - 4 - 0.8465738615796716\n",
      "'stalk_surface_below_ring' - 4 - 0.9698061739607755\n",
      "'target' - 3 - 0.6927928403500341\n",
      "'veil_color' - 4 - 0.13602202158646529\n",
      "'veil_type' - 1 - 0.0\n",
      "'is_train' - 2 - 0.5004365500135927\n"
     ]
    }
   ],
   "source": [
    "import scipy as sp\n",
    "for col in df:\n",
    "    amount = df[col].unique().shape[0]\n",
    "    distr = df[col].value_counts(normalize=True).values\n",
    "    print('\\'{}\\' - {} - {}'.format(col, amount, sp.stats.entropy(distr)))"
   ]
  },
  {
   "cell_type": "code",
   "execution_count": 103,
   "metadata": {},
   "outputs": [
    {
     "data": {
      "text/plain": [
       "Index(['bruises', 'cap_color', 'cap_shape', 'cap_surface', 'gill_attachment',\n",
       "       'gill_color', 'gill_size', 'gill_spacing', 'habitat', 'odor',\n",
       "       'population', 'ring_number', 'ring_type', 'spore_print_color',\n",
       "       'stalk_color_above_ring', 'stalk_color_below_ring', 'stalk_root',\n",
       "       'stalk_shape', 'stalk_surface_above_ring', 'stalk_surface_below_ring',\n",
       "       'target', 'veil_color', 'veil_type', 'is_train'],\n",
       "      dtype='object')"
      ]
     },
     "execution_count": 103,
     "metadata": {},
     "output_type": "execute_result"
    }
   ],
   "source": [
    "df.columns"
   ]
  },
  {
   "cell_type": "code",
   "execution_count": 104,
   "metadata": {},
   "outputs": [],
   "source": [
    "#df.drop(['veil_type', 'veil_color', 'gill_attachment'], inplace=True)"
   ]
  },
  {
   "cell_type": "code",
   "execution_count": 105,
   "metadata": {
    "ExecuteTime": {
     "end_time": "2018-03-01T19:13:18.866187Z",
     "start_time": "2018-03-01T19:13:18.834937Z"
    }
   },
   "outputs": [
    {
     "name": "stdout",
     "output_type": "stream",
     "text": [
      "gill_color\n"
     ]
    }
   ],
   "source": [
    "# your code goes here\n",
    "# ---------------------------------------------------------------\n",
    "most_diversive = 'gill_color'\n",
    "# ---------------------------------------------------------------\n",
    "\n",
    "print(most_diversive)"
   ]
  },
  {
   "cell_type": "markdown",
   "metadata": {
    "ExecuteTime": {
     "end_time": "2018-03-01T15:54:52.296735Z",
     "start_time": "2018-03-01T15:54:52.281115Z"
    }
   },
   "source": [
    "### Task 2\n",
    "**As a preparation, one would spend up to 15-30 minutes on exploratory data analysis (EDA)** - make sure you understand how features are distributed in train/test, what they look like, are they ordinal/binary/categorical before moving further\n",
    "<br>While doing it, please answer the questions"
   ]
  },
  {
   "cell_type": "markdown",
   "metadata": {
    "ExecuteTime": {
     "end_time": "2018-03-01T16:27:41.214779Z",
     "start_time": "2018-03-01T16:27:41.199155Z"
    }
   },
   "source": [
    "#### 2.1 Are there any features, obviously redundant to train on? If yes - what are they and why it's better to remove them?"
   ]
  },
  {
   "cell_type": "code",
   "execution_count": 106,
   "metadata": {
    "ExecuteTime": {
     "end_time": "2018-03-01T19:13:18.881811Z",
     "start_time": "2018-03-01T19:13:18.866187Z"
    }
   },
   "outputs": [
    {
     "name": "stdout",
     "output_type": "stream",
     "text": [
      "(8124, 24)\n",
      "(8124, 23)\n"
     ]
    }
   ],
   "source": [
    "print(df.shape)\n",
    "# your code/hardcoded list goes here\n",
    "# ---------------------------------------------------------------\n",
    "redundant_columns = [\n",
    "    'veil_type' #, 'veil_color', 'gill_attachment'\n",
    "]\n",
    "# ---------------------------------------------------------------\n",
    "# lets drop these columns from joint dataset\n",
    "df = df.drop(redundant_columns, axis=1, errors='ignore')\n",
    "print(df.shape)"
   ]
  },
  {
   "cell_type": "markdown",
   "metadata": {},
   "source": [
    "####  2.2 How many features (excluding target variable and train/test indexing columns) are:\n",
    "- categorical (more than 2 unique values, no explicit ordering)\n",
    "- ordinal (more than 2 unique values, explicit ordering)\n",
    "- binary (2 unique values, doesn't matter whether it has ordering or is \"yes/no\" styled) "
   ]
  },
  {
   "cell_type": "code",
   "execution_count": 107,
   "metadata": {},
   "outputs": [
    {
     "name": "stdout",
     "output_type": "stream",
     "text": [
      "'bruises', 'gill_attachment', 'gill_size', 'gill_spacing', 'stalk_shape', 'is_train', \b\b"
     ]
    }
   ],
   "source": [
    "import sys\n",
    "for col in df:\n",
    "    if df[col].unique().shape[0] == 2:\n",
    "        sys.stdout.write(\"'{}', \".format(col))\n",
    "sys.stdout.write(\"\\b\\b\")"
   ]
  },
  {
   "cell_type": "code",
   "execution_count": 108,
   "metadata": {},
   "outputs": [
    {
     "name": "stdout",
     "output_type": "stream",
     "text": [
      "['brown' 'gray' 'red' 'white' 'yellow'] - 'cap_color'\n",
      "['convex' 'flat' 'knobbed' 'bell' 'sunken'] - 'cap_shape'\n",
      "['scaly' 'fibrous' 'smooth' 'grooves'] - 'cap_surface'\n",
      "['white' 'brown' 'orange' 'buff' 'pink'] - 'gill_color'\n",
      "['urban' 'woods' 'leaves' 'paths' 'grasses'] - 'habitat'\n",
      "['pungent' 'none' 'foul' 'fishy' 'spicy'] - 'odor'\n",
      "['scattered' 'several' 'solitary' 'numerous' 'clustered'] - 'population'\n",
      "['one' 'two' 'none'] - 'ring_number'\n",
      "['pendant' 'evanescent' 'none' 'large' 'flaring'] - 'ring_type'\n",
      "['brown' 'black' 'white' 'chocolate' 'green'] - 'spore_print_color'\n",
      "['white' 'orange' 'pink' 'gray' 'cinnamon'] - 'stalk_color_above_ring'\n",
      "['white' 'orange' 'pink' 'gray' 'cinnamon'] - 'stalk_color_below_ring'\n",
      "['equal' 'bulbous' 'missing' 'club' 'rooted'] - 'stalk_root'\n",
      "['smooth' 'silky' 'fibrous' 'scaly'] - 'stalk_surface_above_ring'\n",
      "['smooth' 'silky' 'fibrous' 'scaly'] - 'stalk_surface_below_ring'\n",
      "[ 0.  1. nan] - 'target'\n",
      "['white' 'orange' 'brown' 'yellow'] - 'veil_color'\n"
     ]
    }
   ],
   "source": [
    "for col in df:\n",
    "    unique = df[col].unique()\n",
    "    if unique.shape[0] > 2:\n",
    "        print('{} - \\'{}\\''.format(unique[:5], col))"
   ]
  },
  {
   "cell_type": "code",
   "execution_count": 109,
   "metadata": {},
   "outputs": [
    {
     "name": "stdout",
     "output_type": "stream",
     "text": [
      "'cap_color', 'cap_shape', 'cap_surface', 'gill_color', 'habitat', 'odor', 'population', 'ring_number', 'ring_type', 'spore_print_color', 'stalk_color_above_ring', 'stalk_color_below_ring', 'stalk_root', 'stalk_surface_above_ring', 'stalk_surface_below_ring', 'target', 'veil_color', \b\b"
     ]
    }
   ],
   "source": [
    "for col in df:\n",
    "    if df[col].unique().shape[0] > 2:\n",
    "        sys.stdout.write('\\'{}\\', '.format(col))\n",
    "sys.stdout.write(\"\\b\\b\")"
   ]
  },
  {
   "cell_type": "code",
   "execution_count": 111,
   "metadata": {
    "ExecuteTime": {
     "end_time": "2018-03-01T19:13:18.903953Z",
     "start_time": "2018-03-01T19:13:18.883318Z"
    }
   },
   "outputs": [
    {
     "name": "stdout",
     "output_type": "stream",
     "text": [
      "categorical: 15\n",
      "ordinal: 1\n",
      "binary: 5\n"
     ]
    }
   ],
   "source": [
    "# your code goes here\n",
    "# ---------------------------------------------------------------\n",
    "ordinal_cols = sorted([\n",
    "    'ring_number'\n",
    "])\n",
    "binary_cols = sorted([\n",
    "    'bruises', 'gill_size', 'gill_spacing', 'stalk_shape', 'gill_attachment'\n",
    "])\n",
    "categorical_cols = sorted([\n",
    "    'cap_color', 'cap_shape', 'cap_surface', 'gill_color',\n",
    "    'habitat', 'odor', 'population', 'ring_type', 'spore_print_color',\n",
    "    'stalk_color_above_ring', 'stalk_color_below_ring', 'stalk_root',\n",
    "    'stalk_surface_above_ring', 'stalk_surface_below_ring', 'veil_color'\n",
    "])\n",
    "# ---------------------------------------------------------------\n",
    "print('categorical: {}\\nordinal: {}\\nbinary: {}'.format(\n",
    "    len(categorical_cols), len(ordinal_cols), len(binary_cols)))"
   ]
  },
  {
   "cell_type": "code",
   "execution_count": 112,
   "metadata": {
    "ExecuteTime": {
     "end_time": "2018-03-01T19:13:19.066710Z",
     "start_time": "2018-03-01T19:13:18.903953Z"
    }
   },
   "outputs": [],
   "source": [
    "# To be used in training, data must be properly encoded\n",
    "from collections import defaultdict\n",
    "\n",
    "# function to encode categorical data\n",
    "\n",
    "\n",
    "def __encode_categorical(df_list, cat_cols):\n",
    "    # initialize placeholder\n",
    "    d = defaultdict(LabelEncoder)\n",
    "    # fit and encode train/test,\n",
    "    codes = pd.concat(\n",
    "        [df[cat_cols] for df in df_list],\n",
    "        axis=0\n",
    "    ).fillna('').apply(\n",
    "        lambda x: d[x.name].fit(x)\n",
    "    ),\n",
    "    # transform encodings to train/test etc\n",
    "    for df in df_list:\n",
    "        df[cat_cols] = df[cat_cols].fillna('').apply(\n",
    "            lambda x: d[x.name].transform(x))\n",
    "\n",
    "\n",
    "# label encode data (categorical + binary)\n",
    "__encode_categorical(df_list=[df], cat_cols=categorical_cols+binary_cols)\n",
    "# make sure you encode the only ordinal column in correct order\n",
    "df[ordinal_cols[0]] = df[ordinal_cols[0]].map({'none': 0, 'one': 1, 'two': 2})\n",
    "\n",
    "# define useful feature columns to be used for training\n",
    "# (union of all columns discussed above)\n",
    "columns_to_use = ordinal_cols + binary_cols + categorical_cols"
   ]
  },
  {
   "cell_type": "code",
   "execution_count": 113,
   "metadata": {},
   "outputs": [
    {
     "data": {
      "text/html": [
       "<div>\n",
       "<style>\n",
       "    .dataframe thead tr:only-child th {\n",
       "        text-align: right;\n",
       "    }\n",
       "\n",
       "    .dataframe thead th {\n",
       "        text-align: left;\n",
       "    }\n",
       "\n",
       "    .dataframe tbody tr th {\n",
       "        vertical-align: top;\n",
       "    }\n",
       "</style>\n",
       "<table border=\"1\" class=\"dataframe\">\n",
       "  <thead>\n",
       "    <tr style=\"text-align: right;\">\n",
       "      <th></th>\n",
       "      <th>bruises</th>\n",
       "      <th>cap_color</th>\n",
       "      <th>cap_shape</th>\n",
       "      <th>cap_surface</th>\n",
       "      <th>gill_attachment</th>\n",
       "      <th>gill_color</th>\n",
       "      <th>gill_size</th>\n",
       "      <th>gill_spacing</th>\n",
       "      <th>habitat</th>\n",
       "      <th>odor</th>\n",
       "      <th>population</th>\n",
       "      <th>ring_number</th>\n",
       "      <th>ring_type</th>\n",
       "      <th>spore_print_color</th>\n",
       "      <th>stalk_color_above_ring</th>\n",
       "      <th>stalk_color_below_ring</th>\n",
       "      <th>stalk_root</th>\n",
       "      <th>stalk_shape</th>\n",
       "      <th>stalk_surface_above_ring</th>\n",
       "      <th>stalk_surface_below_ring</th>\n",
       "      <th>target</th>\n",
       "      <th>veil_color</th>\n",
       "      <th>is_train</th>\n",
       "    </tr>\n",
       "  </thead>\n",
       "  <tbody>\n",
       "    <tr>\n",
       "      <th>1119</th>\n",
       "      <td>1</td>\n",
       "      <td>8</td>\n",
       "      <td>2</td>\n",
       "      <td>2</td>\n",
       "      <td>1</td>\n",
       "      <td>8</td>\n",
       "      <td>1</td>\n",
       "      <td>0</td>\n",
       "      <td>6</td>\n",
       "      <td>6</td>\n",
       "      <td>5</td>\n",
       "      <td>1</td>\n",
       "      <td>1</td>\n",
       "      <td>3</td>\n",
       "      <td>7</td>\n",
       "      <td>7</td>\n",
       "      <td>3</td>\n",
       "      <td>0</td>\n",
       "      <td>3</td>\n",
       "      <td>0</td>\n",
       "      <td>1.0</td>\n",
       "      <td>2</td>\n",
       "      <td>True</td>\n",
       "    </tr>\n",
       "    <tr>\n",
       "      <th>3942</th>\n",
       "      <td>1</td>\n",
       "      <td>3</td>\n",
       "      <td>3</td>\n",
       "      <td>3</td>\n",
       "      <td>1</td>\n",
       "      <td>1</td>\n",
       "      <td>0</td>\n",
       "      <td>1</td>\n",
       "      <td>0</td>\n",
       "      <td>6</td>\n",
       "      <td>3</td>\n",
       "      <td>1</td>\n",
       "      <td>0</td>\n",
       "      <td>0</td>\n",
       "      <td>7</td>\n",
       "      <td>7</td>\n",
       "      <td>2</td>\n",
       "      <td>1</td>\n",
       "      <td>3</td>\n",
       "      <td>0</td>\n",
       "      <td>1.0</td>\n",
       "      <td>2</td>\n",
       "      <td>True</td>\n",
       "    </tr>\n",
       "    <tr>\n",
       "      <th>1552</th>\n",
       "      <td>1</td>\n",
       "      <td>7</td>\n",
       "      <td>4</td>\n",
       "      <td>2</td>\n",
       "      <td>1</td>\n",
       "      <td>2</td>\n",
       "      <td>1</td>\n",
       "      <td>0</td>\n",
       "      <td>1</td>\n",
       "      <td>8</td>\n",
       "      <td>4</td>\n",
       "      <td>1</td>\n",
       "      <td>0</td>\n",
       "      <td>7</td>\n",
       "      <td>7</td>\n",
       "      <td>7</td>\n",
       "      <td>3</td>\n",
       "      <td>1</td>\n",
       "      <td>3</td>\n",
       "      <td>3</td>\n",
       "      <td>NaN</td>\n",
       "      <td>2</td>\n",
       "      <td>False</td>\n",
       "    </tr>\n",
       "    <tr>\n",
       "      <th>4054</th>\n",
       "      <td>1</td>\n",
       "      <td>3</td>\n",
       "      <td>0</td>\n",
       "      <td>0</td>\n",
       "      <td>1</td>\n",
       "      <td>4</td>\n",
       "      <td>0</td>\n",
       "      <td>1</td>\n",
       "      <td>0</td>\n",
       "      <td>6</td>\n",
       "      <td>2</td>\n",
       "      <td>2</td>\n",
       "      <td>4</td>\n",
       "      <td>7</td>\n",
       "      <td>7</td>\n",
       "      <td>7</td>\n",
       "      <td>3</td>\n",
       "      <td>0</td>\n",
       "      <td>2</td>\n",
       "      <td>3</td>\n",
       "      <td>1.0</td>\n",
       "      <td>2</td>\n",
       "      <td>True</td>\n",
       "    </tr>\n",
       "    <tr>\n",
       "      <th>462</th>\n",
       "      <td>1</td>\n",
       "      <td>7</td>\n",
       "      <td>2</td>\n",
       "      <td>2</td>\n",
       "      <td>1</td>\n",
       "      <td>2</td>\n",
       "      <td>1</td>\n",
       "      <td>0</td>\n",
       "      <td>6</td>\n",
       "      <td>8</td>\n",
       "      <td>4</td>\n",
       "      <td>1</td>\n",
       "      <td>0</td>\n",
       "      <td>7</td>\n",
       "      <td>7</td>\n",
       "      <td>7</td>\n",
       "      <td>3</td>\n",
       "      <td>1</td>\n",
       "      <td>3</td>\n",
       "      <td>3</td>\n",
       "      <td>0.0</td>\n",
       "      <td>2</td>\n",
       "      <td>True</td>\n",
       "    </tr>\n",
       "    <tr>\n",
       "      <th>4126</th>\n",
       "      <td>1</td>\n",
       "      <td>6</td>\n",
       "      <td>2</td>\n",
       "      <td>2</td>\n",
       "      <td>1</td>\n",
       "      <td>7</td>\n",
       "      <td>1</td>\n",
       "      <td>0</td>\n",
       "      <td>6</td>\n",
       "      <td>6</td>\n",
       "      <td>4</td>\n",
       "      <td>1</td>\n",
       "      <td>1</td>\n",
       "      <td>3</td>\n",
       "      <td>7</td>\n",
       "      <td>7</td>\n",
       "      <td>3</td>\n",
       "      <td>0</td>\n",
       "      <td>3</td>\n",
       "      <td>0</td>\n",
       "      <td>1.0</td>\n",
       "      <td>2</td>\n",
       "      <td>True</td>\n",
       "    </tr>\n",
       "    <tr>\n",
       "      <th>1404</th>\n",
       "      <td>0</td>\n",
       "      <td>0</td>\n",
       "      <td>3</td>\n",
       "      <td>2</td>\n",
       "      <td>1</td>\n",
       "      <td>10</td>\n",
       "      <td>0</td>\n",
       "      <td>0</td>\n",
       "      <td>3</td>\n",
       "      <td>0</td>\n",
       "      <td>3</td>\n",
       "      <td>1</td>\n",
       "      <td>4</td>\n",
       "      <td>1</td>\n",
       "      <td>7</td>\n",
       "      <td>7</td>\n",
       "      <td>4</td>\n",
       "      <td>0</td>\n",
       "      <td>3</td>\n",
       "      <td>1</td>\n",
       "      <td>NaN</td>\n",
       "      <td>2</td>\n",
       "      <td>False</td>\n",
       "    </tr>\n",
       "    <tr>\n",
       "      <th>5593</th>\n",
       "      <td>0</td>\n",
       "      <td>7</td>\n",
       "      <td>3</td>\n",
       "      <td>0</td>\n",
       "      <td>1</td>\n",
       "      <td>7</td>\n",
       "      <td>0</td>\n",
       "      <td>0</td>\n",
       "      <td>6</td>\n",
       "      <td>6</td>\n",
       "      <td>4</td>\n",
       "      <td>1</td>\n",
       "      <td>4</td>\n",
       "      <td>1</td>\n",
       "      <td>5</td>\n",
       "      <td>3</td>\n",
       "      <td>0</td>\n",
       "      <td>1</td>\n",
       "      <td>3</td>\n",
       "      <td>3</td>\n",
       "      <td>1.0</td>\n",
       "      <td>2</td>\n",
       "      <td>True</td>\n",
       "    </tr>\n",
       "    <tr>\n",
       "      <th>2425</th>\n",
       "      <td>1</td>\n",
       "      <td>0</td>\n",
       "      <td>4</td>\n",
       "      <td>2</td>\n",
       "      <td>1</td>\n",
       "      <td>2</td>\n",
       "      <td>1</td>\n",
       "      <td>0</td>\n",
       "      <td>6</td>\n",
       "      <td>3</td>\n",
       "      <td>4</td>\n",
       "      <td>1</td>\n",
       "      <td>0</td>\n",
       "      <td>7</td>\n",
       "      <td>7</td>\n",
       "      <td>5</td>\n",
       "      <td>3</td>\n",
       "      <td>1</td>\n",
       "      <td>2</td>\n",
       "      <td>2</td>\n",
       "      <td>0.0</td>\n",
       "      <td>2</td>\n",
       "      <td>True</td>\n",
       "    </tr>\n",
       "    <tr>\n",
       "      <th>589</th>\n",
       "      <td>1</td>\n",
       "      <td>0</td>\n",
       "      <td>2</td>\n",
       "      <td>2</td>\n",
       "      <td>1</td>\n",
       "      <td>2</td>\n",
       "      <td>1</td>\n",
       "      <td>0</td>\n",
       "      <td>6</td>\n",
       "      <td>3</td>\n",
       "      <td>4</td>\n",
       "      <td>1</td>\n",
       "      <td>0</td>\n",
       "      <td>7</td>\n",
       "      <td>7</td>\n",
       "      <td>5</td>\n",
       "      <td>3</td>\n",
       "      <td>1</td>\n",
       "      <td>2</td>\n",
       "      <td>2</td>\n",
       "      <td>0.0</td>\n",
       "      <td>2</td>\n",
       "      <td>True</td>\n",
       "    </tr>\n",
       "    <tr>\n",
       "      <th>2965</th>\n",
       "      <td>1</td>\n",
       "      <td>0</td>\n",
       "      <td>2</td>\n",
       "      <td>3</td>\n",
       "      <td>0</td>\n",
       "      <td>6</td>\n",
       "      <td>0</td>\n",
       "      <td>0</td>\n",
       "      <td>1</td>\n",
       "      <td>6</td>\n",
       "      <td>1</td>\n",
       "      <td>1</td>\n",
       "      <td>4</td>\n",
       "      <td>2</td>\n",
       "      <td>4</td>\n",
       "      <td>4</td>\n",
       "      <td>3</td>\n",
       "      <td>0</td>\n",
       "      <td>3</td>\n",
       "      <td>3</td>\n",
       "      <td>1.0</td>\n",
       "      <td>0</td>\n",
       "      <td>True</td>\n",
       "    </tr>\n",
       "    <tr>\n",
       "      <th>231</th>\n",
       "      <td>0</td>\n",
       "      <td>8</td>\n",
       "      <td>3</td>\n",
       "      <td>2</td>\n",
       "      <td>1</td>\n",
       "      <td>7</td>\n",
       "      <td>1</td>\n",
       "      <td>0</td>\n",
       "      <td>0</td>\n",
       "      <td>7</td>\n",
       "      <td>4</td>\n",
       "      <td>1</td>\n",
       "      <td>4</td>\n",
       "      <td>1</td>\n",
       "      <td>7</td>\n",
       "      <td>7</td>\n",
       "      <td>2</td>\n",
       "      <td>0</td>\n",
       "      <td>3</td>\n",
       "      <td>3</td>\n",
       "      <td>0.0</td>\n",
       "      <td>2</td>\n",
       "      <td>True</td>\n",
       "    </tr>\n",
       "    <tr>\n",
       "      <th>1468</th>\n",
       "      <td>1</td>\n",
       "      <td>3</td>\n",
       "      <td>2</td>\n",
       "      <td>0</td>\n",
       "      <td>1</td>\n",
       "      <td>8</td>\n",
       "      <td>1</td>\n",
       "      <td>0</td>\n",
       "      <td>6</td>\n",
       "      <td>2</td>\n",
       "      <td>3</td>\n",
       "      <td>1</td>\n",
       "      <td>4</td>\n",
       "      <td>1</td>\n",
       "      <td>7</td>\n",
       "      <td>7</td>\n",
       "      <td>0</td>\n",
       "      <td>0</td>\n",
       "      <td>3</td>\n",
       "      <td>3</td>\n",
       "      <td>0.0</td>\n",
       "      <td>2</td>\n",
       "      <td>True</td>\n",
       "    </tr>\n",
       "    <tr>\n",
       "      <th>6353</th>\n",
       "      <td>0</td>\n",
       "      <td>3</td>\n",
       "      <td>3</td>\n",
       "      <td>0</td>\n",
       "      <td>1</td>\n",
       "      <td>10</td>\n",
       "      <td>0</td>\n",
       "      <td>0</td>\n",
       "      <td>6</td>\n",
       "      <td>6</td>\n",
       "      <td>5</td>\n",
       "      <td>1</td>\n",
       "      <td>4</td>\n",
       "      <td>1</td>\n",
       "      <td>5</td>\n",
       "      <td>5</td>\n",
       "      <td>0</td>\n",
       "      <td>1</td>\n",
       "      <td>3</td>\n",
       "      <td>3</td>\n",
       "      <td>1.0</td>\n",
       "      <td>2</td>\n",
       "      <td>True</td>\n",
       "    </tr>\n",
       "    <tr>\n",
       "      <th>5110</th>\n",
       "      <td>1</td>\n",
       "      <td>3</td>\n",
       "      <td>3</td>\n",
       "      <td>0</td>\n",
       "      <td>1</td>\n",
       "      <td>3</td>\n",
       "      <td>0</td>\n",
       "      <td>0</td>\n",
       "      <td>0</td>\n",
       "      <td>4</td>\n",
       "      <td>4</td>\n",
       "      <td>1</td>\n",
       "      <td>2</td>\n",
       "      <td>3</td>\n",
       "      <td>5</td>\n",
       "      <td>0</td>\n",
       "      <td>0</td>\n",
       "      <td>0</td>\n",
       "      <td>2</td>\n",
       "      <td>2</td>\n",
       "      <td>0.0</td>\n",
       "      <td>2</td>\n",
       "      <td>True</td>\n",
       "    </tr>\n",
       "  </tbody>\n",
       "</table>\n",
       "</div>"
      ],
      "text/plain": [
       "      bruises  cap_color  cap_shape  cap_surface  gill_attachment  gill_color  \\\n",
       "1119        1          8          2            2                1           8   \n",
       "3942        1          3          3            3                1           1   \n",
       "1552        1          7          4            2                1           2   \n",
       "4054        1          3          0            0                1           4   \n",
       "462         1          7          2            2                1           2   \n",
       "4126        1          6          2            2                1           7   \n",
       "1404        0          0          3            2                1          10   \n",
       "5593        0          7          3            0                1           7   \n",
       "2425        1          0          4            2                1           2   \n",
       "589         1          0          2            2                1           2   \n",
       "2965        1          0          2            3                0           6   \n",
       "231         0          8          3            2                1           7   \n",
       "1468        1          3          2            0                1           8   \n",
       "6353        0          3          3            0                1          10   \n",
       "5110        1          3          3            0                1           3   \n",
       "\n",
       "      gill_size  gill_spacing  habitat  odor  population  ring_number  \\\n",
       "1119          1             0        6     6           5            1   \n",
       "3942          0             1        0     6           3            1   \n",
       "1552          1             0        1     8           4            1   \n",
       "4054          0             1        0     6           2            2   \n",
       "462           1             0        6     8           4            1   \n",
       "4126          1             0        6     6           4            1   \n",
       "1404          0             0        3     0           3            1   \n",
       "5593          0             0        6     6           4            1   \n",
       "2425          1             0        6     3           4            1   \n",
       "589           1             0        6     3           4            1   \n",
       "2965          0             0        1     6           1            1   \n",
       "231           1             0        0     7           4            1   \n",
       "1468          1             0        6     2           3            1   \n",
       "6353          0             0        6     6           5            1   \n",
       "5110          0             0        0     4           4            1   \n",
       "\n",
       "      ring_type  spore_print_color  stalk_color_above_ring  \\\n",
       "1119          1                  3                       7   \n",
       "3942          0                  0                       7   \n",
       "1552          0                  7                       7   \n",
       "4054          4                  7                       7   \n",
       "462           0                  7                       7   \n",
       "4126          1                  3                       7   \n",
       "1404          4                  1                       7   \n",
       "5593          4                  1                       5   \n",
       "2425          0                  7                       7   \n",
       "589           0                  7                       7   \n",
       "2965          4                  2                       4   \n",
       "231           4                  1                       7   \n",
       "1468          4                  1                       7   \n",
       "6353          4                  1                       5   \n",
       "5110          2                  3                       5   \n",
       "\n",
       "      stalk_color_below_ring  stalk_root  stalk_shape  \\\n",
       "1119                       7           3            0   \n",
       "3942                       7           2            1   \n",
       "1552                       7           3            1   \n",
       "4054                       7           3            0   \n",
       "462                        7           3            1   \n",
       "4126                       7           3            0   \n",
       "1404                       7           4            0   \n",
       "5593                       3           0            1   \n",
       "2425                       5           3            1   \n",
       "589                        5           3            1   \n",
       "2965                       4           3            0   \n",
       "231                        7           2            0   \n",
       "1468                       7           0            0   \n",
       "6353                       5           0            1   \n",
       "5110                       0           0            0   \n",
       "\n",
       "      stalk_surface_above_ring  stalk_surface_below_ring  target  veil_color  \\\n",
       "1119                         3                         0     1.0           2   \n",
       "3942                         3                         0     1.0           2   \n",
       "1552                         3                         3     NaN           2   \n",
       "4054                         2                         3     1.0           2   \n",
       "462                          3                         3     0.0           2   \n",
       "4126                         3                         0     1.0           2   \n",
       "1404                         3                         1     NaN           2   \n",
       "5593                         3                         3     1.0           2   \n",
       "2425                         2                         2     0.0           2   \n",
       "589                          2                         2     0.0           2   \n",
       "2965                         3                         3     1.0           0   \n",
       "231                          3                         3     0.0           2   \n",
       "1468                         3                         3     0.0           2   \n",
       "6353                         3                         3     1.0           2   \n",
       "5110                         2                         2     0.0           2   \n",
       "\n",
       "      is_train  \n",
       "1119      True  \n",
       "3942      True  \n",
       "1552     False  \n",
       "4054      True  \n",
       "462       True  \n",
       "4126      True  \n",
       "1404     False  \n",
       "5593      True  \n",
       "2425      True  \n",
       "589       True  \n",
       "2965      True  \n",
       "231       True  \n",
       "1468      True  \n",
       "6353      True  \n",
       "5110      True  "
      ]
     },
     "execution_count": 113,
     "metadata": {},
     "output_type": "execute_result"
    }
   ],
   "source": [
    "df.sample(15)"
   ]
  },
  {
   "cell_type": "markdown",
   "metadata": {
    "ExecuteTime": {
     "end_time": "2018-03-01T16:57:45.813108Z",
     "start_time": "2018-03-01T16:57:45.797483Z"
    }
   },
   "source": [
    "### Task 3. Prepare cross-validation strategy and perform comparison of 2 baseline models (linear vs tree-based)"
   ]
  },
  {
   "cell_type": "markdown",
   "metadata": {},
   "source": [
    "### =====================================================\n",
    "#### Briefly about Validation / Cross-Validation\n",
    "\n",
    "Learning the parameters of a prediction function and testing it on the same data is a methodological mistake: a model that would just repeat the labels of the samples that it has just seen would have a perfect score but **would fail to predict anything useful on yet-unseen data. This situation is called overfitting**. \n",
    "<br>To avoid it, it is common practice when performing a (supervised) machine learning experiment to hold out part of the available data as a test set ```X_test, y_test```. \n",
    "<br>Note that the word “experiment” is not intended to denote academic use only, because even in commercial settings machine learning usually starts out experimentally.\n",
    "\n",
    "When evaluating different settings (“hyperparameters”) for estimators, **there is still a risk of overfitting on the test set** because the parameters can be tweaked until the estimator performs optimally. \n",
    "<br>This way, knowledge about the test set can “leak” into the model and evaluation metrics no longer report on generalization performance. \n",
    "<br>To solve this problem, yet another part of the dataset can be held out as a so-called “validation set”: training proceeds on the training set, after which evaluation is done on the validation set, and when the experiment seems to be successful, final evaluation can be done on the test set.\n",
    "\n",
    "However, by partitioning the available data into three sets, **we drastically reduce the number of samples which can be used for learning the model, and the results can depend on a particular random choice for the pair of (train, validation) sets.**\n",
    "\n",
    "A solution to this problem is a procedure called **cross-validation (CV for short). A test set should still be held out for final evaluation, but the validation set is no longer needed when doing CV**. In the basic approach, called k-fold CV, the training set is split into k smaller sets (other approaches are described below, but generally follow the same principles). The following procedure is followed for each of the k “folds”:\n",
    "\n",
    "- A model is trained using k-1 of the folds as training data;\n",
    "- the resulting model is validated on the remaining part of the data \n",
    "<br>(i.e., it is used as a test set to compute a performance measure such as accuracy).\n",
    "        \n",
    "<img src=\"https://hsto.org/files/b1d/706/e6c/b1d706e6c9df49c297b6152878a2d03f.png\"/ style=\"width:75%\">\n",
    "\n",
    "The performance measure reported by k-fold cross-validation **is then the average of the values computed in the loop**. \n",
    "<br>This approach can be computationally expensive, but does not waste too much data (as it is the case when fixing an arbitrary test set), which is a major advantage in problem such as inverse inference where the number of samples is very small.\n",
    "\n",
    "\n",
    "Some classification problems can **exhibit a large imbalance in the distribution of the target classes: for instance there could be several times more negative samples than positive samples**. \n",
    "<br>In such cases it is recommended to use **stratified sampling** as implemented in sklearn's StratifiedKFold and StratifiedShuffleSplit to ensure that relative class frequencies is approximately preserved in each train and validation fold.\n",
    "\n",
    "More details about different cross-validation strategies, implemented in sklearn, can be found [here](http://scikit-learn.org/stable/modules/cross_validation.html)\n",
    "### ====================================================="
   ]
  },
  {
   "cell_type": "markdown",
   "metadata": {
    "ExecuteTime": {
     "end_time": "2018-03-01T16:57:45.813108Z",
     "start_time": "2018-03-01T16:57:45.797483Z"
    }
   },
   "source": [
    "Prepare KFold with 5 splits, stratified by target variable, shuffled, with fixed random_state = 42\n",
    "<br>**Don't forget to filter by column 'is_train'!**\n",
    "<br>Fit models on subset of features: [columns_to_use]"
   ]
  },
  {
   "cell_type": "code",
   "execution_count": 114,
   "metadata": {
    "ExecuteTime": {
     "end_time": "2018-03-01T19:13:23.353852Z",
     "start_time": "2018-03-01T19:13:19.066710Z"
    }
   },
   "outputs": [],
   "source": [
    "from os import cpu_count\n",
    "\n",
    "n_jobs = max(cpu_count()-1, 1)\n",
    "kf = StratifiedKFold(n_splits=5, shuffle=True, random_state=42)\n",
    "\n",
    "# xtrain, ytrain, DataFrame-like\n",
    "\n",
    "train = df[df.is_train]\n",
    "\n",
    "# kf.split(train[columns_to_use], train['target'])"
   ]
  },
  {
   "cell_type": "code",
   "execution_count": 116,
   "metadata": {
    "ExecuteTime": {
     "end_time": "2018-03-01T19:13:23.353852Z",
     "start_time": "2018-03-01T19:13:19.066710Z"
    }
   },
   "outputs": [
    {
     "name": "stdout",
     "output_type": "stream",
     "text": [
      "DT scoring: 0.92\n"
     ]
    }
   ],
   "source": [
    "# ---------------------------------------------------------------\n",
    "\n",
    "# create Decision Tree with default params, max_depth=3, random_state=42\n",
    "dt = DecisionTreeClassifier(\n",
    "    max_depth=4, \n",
    "    random_state=42)\n",
    "\n",
    "# estimate its f1-score with cross-validation (cross_val_score)\n",
    "# your code goes here\n",
    "# ---------------------------------------------------------------\n",
    "scores_dt = cross_val_score(\n",
    "    estimator=dt,\n",
    "    X=train[columns_to_use],\n",
    "    y=train['target'],\n",
    "    scoring='f1',\n",
    "    cv=kf, # cross-validation strategy\n",
    "    n_jobs=n_jobs\n",
    ").mean()\n",
    "print('DT scoring: {:.2f}'.format(scores_dt))\n",
    "# ---------------------------------------------------------------"
   ]
  },
  {
   "cell_type": "code",
   "execution_count": 89,
   "metadata": {
    "ExecuteTime": {
     "end_time": "2018-03-01T19:13:23.353852Z",
     "start_time": "2018-03-01T19:13:19.066710Z"
    }
   },
   "outputs": [
    {
     "name": "stdout",
     "output_type": "stream",
     "text": [
      "LR scoring: 0.89\n"
     ]
    }
   ],
   "source": [
    "# create Logistic Regression with default params, random_state=42\n",
    "lr = LogisticRegression(C=1, penalty='l2', random_state=42, n_jobs=n_jobs)\n",
    "\n",
    "# estimate its f1-score with cross-validation\n",
    "# your code goes here\n",
    "# ---------------------------------------------------------------\n",
    "scores_lr = cross_val_score(\n",
    "    estimator=lr,\n",
    "    X=train[columns_to_use],\n",
    "    y=train['target'],\n",
    "    scoring='f1',\n",
    "    cv=kf,\n",
    "    n_jobs=n_jobs\n",
    ").mean()\n",
    "print('LR scoring: {:.2f}'.format(scores_lr))"
   ]
  },
  {
   "cell_type": "markdown",
   "metadata": {},
   "source": [
    "Why is a score of Linear Regression lower than correspondent one of DT?\n",
    "1. Is everything OK with the data format for linear models? (revision of 2 previous lectures). \n",
    "1. If not, what else you should do to use the data appropriately for linear models?\n",
    "1. Why didn't point 1. affect Decision Tree performance?"
   ]
  },
  {
   "cell_type": "raw",
   "metadata": {
    "ExecuteTime": {
     "end_time": "2018-03-01T17:07:09.097412Z",
     "start_time": "2018-03-01T17:07:09.081783Z"
    }
   },
   "source": [
    "---------------------------------------------------------\n",
    "your answer goes here\n",
    "---------------------------------------------------------"
   ]
  },
  {
   "cell_type": "markdown",
   "metadata": {},
   "source": [
    "### Task 4. Now it's time to do some hyperparam tuning\n",
    "Perform suitable hyperparam tuning using created above cross-validation strategy\n",
    "<br>Main parameters to perform grid-search for:\n",
    "- max_depth (1,2,...None)\n",
    "- min_samples_leaf (1,2,...)\n",
    "- criterion (gini, entropy)\n",
    "- weight (none, balanced)\n",
    "- max_features (sqrt(features), 50%, 75%, all of them, ...)\n",
    "- other params available, see documentation\n",
    "\n",
    "So - use your fantasy for filling-in abovementioned lists\n",
    "\n",
    "You should receive **a gain of 0.01 in f1-score or higher**\n",
    "<br>(current benchmark = +0.0268 gain)"
   ]
  },
  {
   "cell_type": "code",
   "execution_count": null,
   "metadata": {
    "ExecuteTime": {
     "end_time": "2018-03-01T19:13:36.468592Z",
     "start_time": "2018-03-01T19:13:23.353852Z"
    }
   },
   "outputs": [],
   "source": [
    "%%time\n",
    "# your code goes here\n",
    "# ---------------------------------------------------------------\n",
    "# create base model (DT, random state = 42)\n",
    "estimator = DecisionTreeClassifier(\n",
    "    # ...\n",
    ")\n",
    "\n",
    "# create parameter grid\n",
    "# http://scikit-learn.org/stable/modules/generated/sklearn.model_selection.GridSearchCV.html\n",
    "params = {\n",
    "    # ...\n",
    "}\n",
    "\n",
    "# create grid search object\n",
    "gs = GridSearchCV(\n",
    "    estimator=estimator,  # base model\n",
    "    param_grid=params,  # params grid to search within\n",
    "    cv=kf,  # cross-validation strategy\n",
    "    error_score=1,  # warnings only\n",
    "    scoring='f1',  # f1-score\n",
    "    # thread count, the higher count - the faster\n",
    "    n_jobs=n_jobs,\n",
    "    verbose=2,  # messages about performed actions\n",
    ")\n",
    "\n",
    "# perform grid search on TRAIN dataset ('is_train' filtering)\n",
    "gs.fit(\n",
    "    X=, # ...\n",
    "    y=, # ...\n",
    ")\n",
    "# -------------------------------------------------------------\n",
    "# extract best score on cross-validation\n",
    "best_score = gs.best_score_\n",
    "# extract the estimator (DT) with best params on cross-validation\n",
    "best_dt = gs.best_estimator_\n",
    "# check gain in f1-score\n",
    "print('f1-score best: {:.4f}, +{:.4f} better than baseline'.format(\n",
    "    best_score, (best_score - scores_dt))\n",
    ")"
   ]
  },
  {
   "cell_type": "code",
   "execution_count": null,
   "metadata": {
    "ExecuteTime": {
     "end_time": "2018-03-01T19:13:36.484218Z",
     "start_time": "2018-03-01T19:13:36.468592Z"
    }
   },
   "outputs": [],
   "source": [
    "# take a look on the best model, compare with the baseline\n",
    "best_dt"
   ]
  },
  {
   "cell_type": "code",
   "execution_count": null,
   "metadata": {
    "ExecuteTime": {
     "end_time": "2018-03-01T19:13:36.515467Z",
     "start_time": "2018-03-01T19:13:36.484218Z"
    }
   },
   "outputs": [],
   "source": [
    "# check performance on holdout dataset, unseen before (filter 'is_train' == False)\n",
    "\n",
    "# your code goes here\n",
    "# ---------------------------------------------------------------\n",
    "# appropriate df_test data subset from 'df' dataframe\n",
    "xtest = None # ...\n",
    "# fit baseline model 'dt' on xtrain, ytrain (because it's not fitted yet)\n",
    "dt.fit(xtrain, ytrain)\n",
    "# ---------------------------------------------------------------\n",
    "\n",
    "# baseline model\n",
    "y_true = pd.read_csv(pjoin(DATA_DIR, 'y_test.csv'))\n",
    "y_pred_baseline = # ...\n",
    "\n",
    "print('Base on train:   {:.4f}\\nBase on holdout: {:.4f}\\ndiff: {:.4f}'.format(\n",
    "    scores_dt, \n",
    "    f1_score(y_true, y_pred_baseline),\n",
    "    scores_dt - f1_score(y_true, y_pred_baseline)\n",
    "))\n",
    "\n",
    "# best model\n",
    "y_pred_best = # ...\n",
    "\n",
    "print('\\nBest on train:   {:.4f}\\nBest on holdout: {:.4f}\\ndiff: {:.4f}'.format(\n",
    "    best_score, \n",
    "    f1_score(y_true, y_pred_best),\n",
    "    best_score - f1_score(y_true, y_pred_best)\n",
    "))"
   ]
  },
  {
   "cell_type": "markdown",
   "metadata": {},
   "source": [
    "Now you can see that \n",
    "<br>**absolute values of f1-score is higher and distance between train|holdout is lower** <br>for **best model** in comparison to **baseline**"
   ]
  },
  {
   "cell_type": "markdown",
   "metadata": {},
   "source": [
    "**Bonus question**:\n",
    "\n",
    "Consider two possibilities:\n",
    "- (a) you have trained **one best** (on cross-validation) Decision Tree\n",
    "- (b) you randomly choose 25 subsets of 70% of training data, fits \"overfitted\" (max_depth=None) Decision Trees on it - each of them performs slightly worse than Tree in (a), and then average predicted results over all 25 models (overfitted trees)\n",
    "\n",
    "**Which one of them would most likely give the best results on hold-out dataset? What makes you think that way?**"
   ]
  },
  {
   "cell_type": "raw",
   "metadata": {
    "ExecuteTime": {
     "end_time": "2018-03-01T17:07:09.097412Z",
     "start_time": "2018-03-01T17:07:09.081783Z"
    }
   },
   "source": [
    "---------------------------------------------------------\n",
    "your answer goes here\n",
    "---------------------------------------------------------"
   ]
  }
 ],
 "metadata": {
  "kernelspec": {
   "display_name": "Python 3",
   "language": "python",
   "name": "python3"
  },
  "language_info": {
   "codemirror_mode": {
    "name": "ipython",
    "version": 3
   },
   "file_extension": ".py",
   "mimetype": "text/x-python",
   "name": "python",
   "nbconvert_exporter": "python",
   "pygments_lexer": "ipython3",
   "version": "3.6.3"
  }
 },
 "nbformat": 4,
 "nbformat_minor": 2
}
